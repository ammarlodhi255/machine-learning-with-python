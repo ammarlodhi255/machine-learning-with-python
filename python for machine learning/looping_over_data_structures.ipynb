{
 "cells": [
  {
   "cell_type": "code",
   "execution_count": 1,
   "metadata": {},
   "outputs": [
    {
     "name": "stdout",
     "output_type": "stream",
     "text": [
      "afghanistan -- 30.55\n",
      "albania -- 2.77\n",
      "algeria -- 39.21\n"
     ]
    }
   ],
   "source": [
    "# Looping over the dictionaries\n",
    "world = {\n",
    "    \"afghanistan\": 30.55,\n",
    "    \"albania\": 2.77,\n",
    "    \"algeria\": 39.21\n",
    "}\n",
    "\n",
    "for key, value in world.items():\n",
    "    print(f'{key} -- {value}')"
   ]
  },
  {
   "cell_type": "code",
   "execution_count": 2,
   "metadata": {},
   "outputs": [
    {
     "name": "stdout",
     "output_type": "stream",
     "text": [
      "The capital of spain is madrid\n",
      "The capital of france is paris\n",
      "The capital of germany is berlin\n",
      "The capital of norway is oslo\n",
      "The capital of italy is rome\n",
      "The capital of poland is warsaw\n",
      "The capital of austria is vienna\n"
     ]
    }
   ],
   "source": [
    "# Definition of dictionary\n",
    "europe = {'spain': 'madrid', 'france': 'paris', 'germany': 'berlin',\n",
    "          'norway': 'oslo', 'italy': 'rome', 'poland': 'warsaw', 'austria': 'vienna'}\n",
    "\n",
    "# Iterate over europe\n",
    "for key, value in europe.items():\n",
    "    print(\"The capital of \" + key + \" is \" + value)"
   ]
  },
  {
   "cell_type": "code",
   "execution_count": 3,
   "metadata": {},
   "outputs": [
    {
     "name": "stdout",
     "output_type": "stream",
     "text": [
      "13.2\n",
      "1.2\n",
      "23.2\n",
      "9.9\n",
      "5.2\n"
     ]
    }
   ],
   "source": [
    "# Looping over numpy arrays\n",
    "\n",
    "# If we are dealing with 1D numpy arrays, the looping mechanism is the same as for the 1D lists\n",
    "import numpy as np\n",
    "nums = np.array([13.2, 1.2, 23.2, 9.9, 5.2])\n",
    "\n",
    "for num in nums:\n",
    "    print(num)"
   ]
  },
  {
   "cell_type": "code",
   "execution_count": 5,
   "metadata": {},
   "outputs": [
    {
     "name": "stdout",
     "output_type": "stream",
     "text": [
      "74,74,72,72,73,69,69,71,76,71,73,73,74,74,69,70,73,75,78,79,76,74,76,72,71,75,77,74,73,74,78,73,75,73,75,75,74,69,71,74,73,73,76,74,74,70,72,77,"
     ]
    }
   ],
   "source": [
    "# If we are dealing with 2D arrays, the looping mechanism is the same as for the 1D lists\n",
    "twod_nums = np.array([\n",
    "    [74, 74, 72, 72, 73, 69, 69, 71, 76, 71, 73, 73, 74, 74, 69, 70, 73, 75, 78, 79, 76, 74, 76, 72],\n",
    "    [71, 75, 77, 74, 73, 74, 78, 73, 75, 73, 75, 75, 74, 69, 71, 74, 73, 73, 76, 74, 74, 70, 72, 77]\n",
    "])\n",
    "\n",
    "# Use np.nditer() to iterate over each element of the 2D array\n",
    "for val in np.nditer(twod_nums):\n",
    "    print(val, end=\",\")"
   ]
  },
  {
   "cell_type": "code",
   "execution_count": 2,
   "metadata": {},
   "outputs": [
    {
     "data": {
      "text/html": [
       "<div>\n",
       "<style scoped>\n",
       "    .dataframe tbody tr th:only-of-type {\n",
       "        vertical-align: middle;\n",
       "    }\n",
       "\n",
       "    .dataframe tbody tr th {\n",
       "        vertical-align: top;\n",
       "    }\n",
       "\n",
       "    .dataframe thead th {\n",
       "        text-align: right;\n",
       "    }\n",
       "</style>\n",
       "<table border=\"1\" class=\"dataframe\">\n",
       "  <thead>\n",
       "    <tr style=\"text-align: right;\">\n",
       "      <th></th>\n",
       "      <th>Name</th>\n",
       "      <th>Age</th>\n",
       "      <th>Field of Interest</th>\n",
       "    </tr>\n",
       "  </thead>\n",
       "  <tbody>\n",
       "    <tr>\n",
       "      <th>0</th>\n",
       "      <td>Ammar</td>\n",
       "      <td>22</td>\n",
       "      <td>Computer Science</td>\n",
       "    </tr>\n",
       "    <tr>\n",
       "      <th>1</th>\n",
       "      <td>Manaf</td>\n",
       "      <td>21</td>\n",
       "      <td>Software Engineering</td>\n",
       "    </tr>\n",
       "    <tr>\n",
       "      <th>2</th>\n",
       "      <td>John</td>\n",
       "      <td>20</td>\n",
       "      <td>Theoretical Physics</td>\n",
       "    </tr>\n",
       "    <tr>\n",
       "      <th>3</th>\n",
       "      <td>Haris</td>\n",
       "      <td>21</td>\n",
       "      <td>ML Engineering</td>\n",
       "    </tr>\n",
       "  </tbody>\n",
       "</table>\n",
       "</div>"
      ],
      "text/plain": [
       "    Name  Age     Field of Interest\n",
       "0  Ammar   22      Computer Science\n",
       "1  Manaf   21  Software Engineering\n",
       "2   John   20   Theoretical Physics\n",
       "3  Haris   21        ML Engineering"
      ]
     },
     "execution_count": 2,
     "metadata": {},
     "output_type": "execute_result"
    }
   ],
   "source": [
    "import pandas as pd\n",
    "\n",
    "df = pd.DataFrame([\n",
    "    [\"Ammar\", 22, \"Computer Science\"],\n",
    "    [\"Manaf\", 21, \"Software Engineering\"],\n",
    "    [\"John\", 20, \"Theoretical Physics\"],\n",
    "    [\"Haris\", 21, \"ML Engineering\"]\n",
    "])\n",
    "\n",
    "df.columns = [\"Name\", \"Age\", \"Field of Interest\"]\n",
    "df"
   ]
  },
  {
   "cell_type": "code",
   "execution_count": 4,
   "metadata": {},
   "outputs": [
    {
     "name": "stdout",
     "output_type": "stream",
     "text": [
      "Name\n",
      "Age\n",
      "Field of Interest\n"
     ]
    }
   ],
   "source": [
    "# If we were to loop through the dataframe in a traditional way as we did with the list, we'll get the column names only\n",
    "for v in df:\n",
    "    print(v)"
   ]
  },
  {
   "cell_type": "code",
   "execution_count": 9,
   "metadata": {},
   "outputs": [
    {
     "name": "stdout",
     "output_type": "stream",
     "text": [
      "Row no. 0\n",
      "Name                            Ammar\n",
      "Age                                22\n",
      "Field of Interest    Computer Science\n",
      "Name: 0, dtype: object\n",
      "\n",
      "Row no. 1\n",
      "Name                                Manaf\n",
      "Age                                    21\n",
      "Field of Interest    Software Engineering\n",
      "Name: 1, dtype: object\n",
      "\n",
      "Row no. 2\n",
      "Name                                John\n",
      "Age                                   20\n",
      "Field of Interest    Theoretical Physics\n",
      "Name: 2, dtype: object\n",
      "\n",
      "Row no. 3\n",
      "Name                          Haris\n",
      "Age                              21\n",
      "Field of Interest    ML Engineering\n",
      "Name: 3, dtype: object\n",
      "\n"
     ]
    }
   ],
   "source": [
    "# Let us now iterate through rows of the dataframe\n",
    "\n",
    "for index, row in df.iterrows():\n",
    "    print(\"Row no. \" + str(index))\n",
    "    print(row, end=\"\\n\\n\")"
   ]
  },
  {
   "cell_type": "code",
   "execution_count": 13,
   "metadata": {},
   "outputs": [
    {
     "name": "stdout",
     "output_type": "stream",
     "text": [
      "Computer Science\n",
      "Software Engineering\n",
      "Theoretical Physics\n",
      "ML Engineering\n",
      "\n",
      "\n",
      "Computer Science\n",
      "Software Engineering\n",
      "Theoretical Physics\n",
      "ML Engineering\n"
     ]
    }
   ],
   "source": [
    "# Printing only the values of a specific column\n",
    "for index, row in df.iterrows():\n",
    "    print(row.iloc[2])\n",
    "\n",
    "# OR\n",
    "\n",
    "print(\"\\n\")\n",
    "for index, row in df.iterrows():\n",
    "    print(row['Field of Interest'])"
   ]
  }
 ],
 "metadata": {
  "kernelspec": {
   "display_name": "Python 3.10.5 64-bit",
   "language": "python",
   "name": "python3"
  },
  "language_info": {
   "codemirror_mode": {
    "name": "ipython",
    "version": 3
   },
   "file_extension": ".py",
   "mimetype": "text/x-python",
   "name": "python",
   "nbconvert_exporter": "python",
   "pygments_lexer": "ipython3",
   "version": "3.10.5"
  },
  "orig_nbformat": 4,
  "vscode": {
   "interpreter": {
    "hash": "7c2737f5cd3eb6a237b7123ce75c641d6f975db18b0c0702ad2055474d78171c"
   }
  }
 },
 "nbformat": 4,
 "nbformat_minor": 2
}
