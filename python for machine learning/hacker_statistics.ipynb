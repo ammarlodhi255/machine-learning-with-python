{
 "cells": [
  {
   "cell_type": "code",
   "execution_count": 1,
   "metadata": {},
   "outputs": [
    {
     "name": "stdout",
     "output_type": "stream",
     "text": [
      "0.6964691855978616\n"
     ]
    }
   ],
   "source": [
    "# Import numpy as np\n",
    "import numpy as np\n",
    "\n",
    "# Set the seed\n",
    "np.random.seed(123)\n",
    "\n",
    "# Generate and print random float\n",
    "print(np.random.rand())"
   ]
  },
  {
   "cell_type": "code",
   "execution_count": 3,
   "metadata": {},
   "outputs": [
    {
     "name": "stdout",
     "output_type": "stream",
     "text": [
      "6\n",
      "3\n"
     ]
    }
   ],
   "source": [
    "# Let us now simulate the dice\n",
    "np.random.seed(123)\n",
    "roll = np.random.randint(1, 7)\n",
    "print(roll)\n",
    "\n",
    "# Do it again\n",
    "roll = np.random.randint(1, 7)\n",
    "print(roll)"
   ]
  },
  {
   "cell_type": "code",
   "execution_count": 4,
   "metadata": {},
   "outputs": [
    {
     "name": "stdout",
     "output_type": "stream",
     "text": [
      "5 51\n"
     ]
    }
   ],
   "source": [
    "'''\n",
    "    If dice is 1 or 2, you go one step down.\n",
    "    if dice is 3, 4 or 5, you go one step up.\n",
    "    Else, you throw the dice again. The number of eyes is the number of steps you go up.\n",
    "'''\n",
    "\n",
    "# Starting step\n",
    "step = 50\n",
    "\n",
    "# Roll the dice\n",
    "dice = np.random.randint(1, 7)\n",
    "\n",
    "# Finish the control construct\n",
    "if dice <= 2:\n",
    "    step = step - 1\n",
    "elif dice > 2 and dice < 6:\n",
    "    step = step + 1\n",
    "else:\n",
    "    step = step + np.random.randint(1, 7)\n",
    "\n",
    "# Print out dice and step\n",
    "print(dice, step)"
   ]
  },
  {
   "cell_type": "code",
   "execution_count": 7,
   "metadata": {},
   "outputs": [
    {
     "name": "stdout",
     "output_type": "stream",
     "text": [
      "[0, 0, 1, 2, 5, 4, 5, 4, 5, 6, 7, 6, 7, 6, 7, 8, 10, 9, 8, 9, 10, 9, 11, 12, 13, 14, 15, 16, 17, 16, 17, 18, 23, 24, 23, 22, 21, 20, 21, 22, 23, 28, 29, 28, 29, 30, 31, 32, 33, 34, 33, 32, 33, 32, 38, 37, 38, 37, 38, 37, 38, 42, 46, 48, 50, 49, 50, 52, 51, 57, 58, 60, 61, 60, 61, 62, 63, 62, 63, 64, 65, 67, 66, 65, 66, 72, 77, 76, 75, 79, 80, 81, 82, 84, 83, 84, 83, 84, 83, 82, 88]\n"
     ]
    }
   ],
   "source": [
    "# Random walk\n",
    "# Initialize random_walk\n",
    "random_walk = [0]\n",
    "\n",
    "for x in range(100):\n",
    "    # Set step: last element in random_walk\n",
    "    step = random_walk[-1]\n",
    "\n",
    "    # Roll the dice\n",
    "    dice = np.random.randint(1, 7)\n",
    "\n",
    "    # Determine next step\n",
    "    if dice <= 2:\n",
    "        # Replace below: use max to make sure step can't go below 0\n",
    "        step = max(0, step - 1)\n",
    "    elif dice <= 5:\n",
    "        step = step + 1\n",
    "    else:\n",
    "        step = step + np.random.randint(1, 7)\n",
    "\n",
    "    # append next_step to random_walk\n",
    "    random_walk.append(step)\n",
    "\n",
    "# Print random_walk\n",
    "print(random_walk)"
   ]
  },
  {
   "cell_type": "code",
   "execution_count": 10,
   "metadata": {},
   "outputs": [
    {
     "data": {
      "image/png": "[encoded data removed]",
      "text/plain": [
       "<Figure size 432x288 with 1 Axes>"
      ]
     },
     "metadata": {
      "needs_background": "light"
     },
     "output_type": "display_data"
    }
   ],
   "source": [
    "# Visualize the walk\n",
    "\n",
    "# Import matplotlib.pyplot as plt\n",
    "import matplotlib.pyplot as plt\n",
    "\n",
    "# Plot random_walk\n",
    "plt.plot(random_walk)\n",
    "plt.xlabel(\"Number of throws\")\n",
    "plt.ylabel(\"Step\")\n",
    "# Show the plot\n",
    "plt.show()"
   ]
  },
  {
   "cell_type": "code",
   "execution_count": null,
   "metadata": {},
   "outputs": [],
   "source": [
    "# Let us now construct the distribution of dice random walks\n",
    "\n",
    "# Initialize all_walks (don't change this line)\n",
    "all_walks = []\n",
    "\n",
    "# Simulate random walk 10 times\n",
    "for i in range(10):\n",
    "\n",
    "    # Code from before\n",
    "    random_walk = [0]\n",
    "    for x in range(100):\n",
    "        step = random_walk[-1]\n",
    "        dice = np.random.randint(1, 7)\n",
    "\n",
    "        if dice <= 2:\n",
    "            step = max(0, step - 1)\n",
    "        elif dice <= 5:\n",
    "            step = step + 1\n",
    "        else:\n",
    "            step = step + np.random.randint(1, 7)\n",
    "        random_walk.append(step)\n",
    "\n",
    "    # Append random_walk to all_walks\n",
    "    all_walks.append(random_walk[-1])\n",
    "\n",
    "# Print all_walks\n",
    "print(all_walks)"
   ]
  }
 ],
 "metadata": {
  "kernelspec": {
   "display_name": "Python 3.10.5 64-bit",
   "language": "python",
   "name": "python3"
  },
  "language_info": {
   "codemirror_mode": {
    "name": "ipython",
    "version": 3
   },
   "file_extension": ".py",
   "mimetype": "text/x-python",
   "name": "python",
   "nbconvert_exporter": "python",
   "pygments_lexer": "ipython3",
   "version": "3.10.5"
  },
  "orig_nbformat": 4,
  "vscode": {
   "interpreter": {
    "hash": "7c2737f5cd3eb6a237b7123ce75c641d6f975db18b0c0702ad2055474d78171c"
   }
  }
 },
 "nbformat": 4,
 "nbformat_minor": 2
}
