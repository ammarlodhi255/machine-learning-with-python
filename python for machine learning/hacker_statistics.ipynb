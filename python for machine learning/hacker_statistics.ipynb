{
 "cells": [
  {
   "cell_type": "code",
   "execution_count": 1,
   "metadata": {},
   "outputs": [
    {
     "name": "stdout",
     "output_type": "stream",
     "text": [
      "0.6964691855978616\n"
     ]
    }
   ],
   "source": [
    "# Import numpy as np\n",
    "import numpy as np\n",
    "\n",
    "# Set the seed\n",
    "np.random.seed(123)\n",
    "\n",
    "# Generate and print random float\n",
    "print(np.random.rand())"
   ]
  },
  {
   "cell_type": "code",
   "execution_count": 3,
   "metadata": {},
   "outputs": [
    {
     "name": "stdout",
     "output_type": "stream",
     "text": [
      "6\n",
      "3\n"
     ]
    }
   ],
   "source": [
    "# Let us now simulate the dice\n",
    "np.random.seed(123)\n",
    "roll = np.random.randint(1, 7)\n",
    "print(roll)\n",
    "\n",
    "# Do it again\n",
    "roll = np.random.randint(1, 7)\n",
    "print(roll)"
   ]
  },
  {
   "cell_type": "code",
   "execution_count": 4,
   "metadata": {},
   "outputs": [
    {
     "name": "stdout",
     "output_type": "stream",
     "text": [
      "5 51\n"
     ]
    }
   ],
   "source": [
    "'''\n",
    "    If dice is 1 or 2, you go one step down.\n",
    "    if dice is 3, 4 or 5, you go one step up.\n",
    "    Else, you throw the dice again. The number of eyes is the number of steps you go up.\n",
    "'''\n",
    "\n",
    "# Starting step\n",
    "step = 50\n",
    "\n",
    "# Roll the dice\n",
    "dice = np.random.randint(1, 7)\n",
    "\n",
    "# Finish the control construct\n",
    "if dice <= 2:\n",
    "    step = step - 1\n",
    "elif dice > 2 and dice < 6:\n",
    "    step = step + 1\n",
    "else:\n",
    "    step = step + np.random.randint(1, 7)\n",
    "\n",
    "# Print out dice and step\n",
    "print(dice, step)"
   ]
  },
  {
   "cell_type": "code",
   "execution_count": 6,
   "metadata": {},
   "outputs": [
    {
     "name": "stdout",
     "output_type": "stream",
     "text": [
      "[0, -1, -2, 0, -1, 0, 2, 3, 4, 9, 8, 9, 10, 11, 12, 13, 12, 17, 18, 19, 20, 19, 18, 17, 16, 15, 16, 17, 18, 24, 23, 22, 21, 22, 23, 24, 23, 24, 25, 24, 29, 30, 29, 28, 27, 26, 27, 26, 25, 27, 28, 31, 32, 34, 35, 36, 37, 36, 35, 36, 37, 38, 39, 38, 39, 40, 41, 44, 45, 46, 45, 46, 45, 46, 47, 48, 52, 51, 50, 51, 52, 53, 52, 53, 52, 53, 55, 60, 59, 60, 61, 62, 63, 64, 65, 64, 65, 66, 67, 69, 71]\n"
     ]
    }
   ],
   "source": [
    "# Random walk\n",
    "# Initialize random_walk\n",
    "random_walk = [0]\n",
    "\n",
    "for x in range(100):\n",
    "    # Set step: last element in random_walk\n",
    "    step = random_walk[-1]\n",
    "\n",
    "    # Roll the dice\n",
    "    dice = np.random.randint(1, 7)\n",
    "\n",
    "    # Determine next step\n",
    "    if dice <= 2:\n",
    "        step = step - 1\n",
    "    elif dice <= 5:\n",
    "        step = step + 1\n",
    "    else:\n",
    "        step = step + np.random.randint(1, 7)\n",
    "\n",
    "    # append next_step to random_walk\n",
    "    random_walk.append(step)\n",
    "\n",
    "# Print random_walk\n",
    "print(random_walk)"
   ]
  },
  {
   "cell_type": "code",
   "execution_count": null,
   "metadata": {},
   "outputs": [],
   "source": []
  }
 ],
 "metadata": {
  "kernelspec": {
   "display_name": "Python 3.10.5 64-bit",
   "language": "python",
   "name": "python3"
  },
  "language_info": {
   "codemirror_mode": {
    "name": "ipython",
    "version": 3
   },
   "file_extension": ".py",
   "mimetype": "text/x-python",
   "name": "python",
   "nbconvert_exporter": "python",
   "pygments_lexer": "ipython3",
   "version": "3.10.5"
  },
  "orig_nbformat": 4,
  "vscode": {
   "interpreter": {
    "hash": "7c2737f5cd3eb6a237b7123ce75c641d6f975db18b0c0702ad2055474d78171c"
   }
  }
 },
 "nbformat": 4,
 "nbformat_minor": 2
}
