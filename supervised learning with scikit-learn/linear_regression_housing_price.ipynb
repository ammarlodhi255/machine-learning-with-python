{
 "cells": [
  {
   "cell_type": "code",
   "execution_count": 1,
   "metadata": {},
   "outputs": [],
   "source": [
    "import numpy as np\n",
    "import matplotlib.pyplot as plt\n",
    "from sklearn.linear_model import SGDRegressor\n",
    "from sklearn.preprocessing import StandardScaler"
   ]
  },
  {
   "cell_type": "code",
   "execution_count": 2,
   "metadata": {},
   "outputs": [
    {
     "name": "stdout",
     "output_type": "stream",
     "text": [
      "X_train.shape = (99, 4)\n",
      "y_train.shape = (99,)\n"
     ]
    }
   ],
   "source": [
    "X_train = np.array([[1.24e+03, 3.00e+00, 1.00e+00, 6.40e+01],\n",
    "                    [1.95e+03, 3.00e+00, 2.00e+00, 1.70e+01],\n",
    "                    [1.72e+03, 3.00e+00, 2.00e+00, 4.20e+01],\n",
    "                    [1.96e+03, 3.00e+00, 2.00e+00, 1.50e+01],\n",
    "                    [1.31e+03, 2.00e+00, 1.00e+00, 1.40e+01],\n",
    "                    [8.64e+02, 2.00e+00, 1.00e+00, 6.60e+01],\n",
    "                    [1.84e+03, 3.00e+00, 1.00e+00, 1.70e+01],\n",
    "                    [1.03e+03, 3.00e+00, 1.00e+00, 4.30e+01],\n",
    "                    [3.19e+03, 4.00e+00, 2.00e+00, 8.70e+01],\n",
    "                    [7.88e+02, 2.00e+00, 1.00e+00, 8.00e+01],\n",
    "                    [1.20e+03, 2.00e+00, 2.00e+00, 1.70e+01],\n",
    "                    [1.56e+03, 2.00e+00, 1.00e+00, 1.80e+01],\n",
    "                    [1.43e+03, 3.00e+00, 1.00e+00, 2.00e+01],\n",
    "                    [1.22e+03, 2.00e+00, 1.00e+00, 1.50e+01],\n",
    "                    [1.09e+03, 2.00e+00, 1.00e+00, 6.40e+01],\n",
    "                    [8.48e+02, 1.00e+00, 1.00e+00, 1.70e+01],\n",
    "                    [1.68e+03, 3.00e+00, 2.00e+00, 2.30e+01],\n",
    "                    [1.77e+03, 3.00e+00, 2.00e+00, 1.80e+01],\n",
    "                    [1.04e+03, 3.00e+00, 1.00e+00, 4.40e+01],\n",
    "                    [1.65e+03, 2.00e+00, 1.00e+00, 2.10e+01],\n",
    "                    [1.09e+03, 2.00e+00, 1.00e+00, 3.50e+01],\n",
    "                    [1.32e+03, 3.00e+00, 1.00e+00, 1.40e+01],\n",
    "                    [1.59e+03, 0.00e+00, 1.00e+00, 2.00e+01],\n",
    "                    [9.72e+02, 2.00e+00, 1.00e+00, 7.30e+01],\n",
    "                    [1.10e+03, 3.00e+00, 1.00e+00, 3.70e+01],\n",
    "                    [1.00e+03, 2.00e+00, 1.00e+00, 5.10e+01],\n",
    "                    [9.04e+02, 3.00e+00, 1.00e+00, 5.50e+01],\n",
    "                    [1.69e+03, 3.00e+00, 1.00e+00, 1.30e+01],\n",
    "                    [1.07e+03, 2.00e+00, 1.00e+00, 1.00e+02],\n",
    "                    [1.42e+03, 3.00e+00, 2.00e+00, 1.90e+01],\n",
    "                    [1.16e+03, 3.00e+00, 1.00e+00, 5.20e+01],\n",
    "                    [1.94e+03, 3.00e+00, 2.00e+00, 1.20e+01],\n",
    "                    [1.22e+03, 2.00e+00, 2.00e+00, 7.40e+01],\n",
    "                    [2.48e+03, 4.00e+00, 2.00e+00, 1.60e+01],\n",
    "                    [1.20e+03, 2.00e+00, 1.00e+00, 1.80e+01],\n",
    "                    [1.84e+03, 3.00e+00, 2.00e+00, 2.00e+01],\n",
    "                    [1.85e+03, 3.00e+00, 2.00e+00, 5.70e+01],\n",
    "                    [1.66e+03, 3.00e+00, 2.00e+00, 1.90e+01],\n",
    "                    [1.10e+03, 2.00e+00, 2.00e+00, 9.70e+01],\n",
    "                    [1.78e+03, 3.00e+00, 2.00e+00, 2.80e+01],\n",
    "                    [2.03e+03, 4.00e+00, 2.00e+00, 4.50e+01],\n",
    "                    [1.78e+03, 4.00e+00, 2.00e+00, 1.07e+02],\n",
    "                    [1.07e+03, 2.00e+00, 1.00e+00, 1.00e+02],\n",
    "                    [1.55e+03, 3.00e+00, 1.00e+00, 1.60e+01],\n",
    "                    [1.95e+03, 3.00e+00, 2.00e+00, 1.60e+01],\n",
    "                    [1.22e+03, 2.00e+00, 2.00e+00, 1.20e+01],\n",
    "                    [1.62e+03, 3.00e+00, 1.00e+00, 1.60e+01],\n",
    "                    [8.16e+02, 2.00e+00, 1.00e+00, 5.80e+01],\n",
    "                    [1.35e+03, 3.00e+00, 1.00e+00, 2.10e+01],\n",
    "                    [1.57e+03, 3.00e+00, 1.00e+00, 1.40e+01],\n",
    "                    [1.49e+03, 3.00e+00, 1.00e+00, 5.70e+01],\n",
    "                    [1.51e+03, 2.00e+00, 1.00e+00, 1.60e+01],\n",
    "                    [1.10e+03, 3.00e+00, 1.00e+00, 2.70e+01],\n",
    "                    [1.76e+03, 3.00e+00, 2.00e+00, 2.40e+01],\n",
    "                    [1.21e+03, 2.00e+00, 1.00e+00, 1.40e+01],\n",
    "                    [1.47e+03, 3.00e+00, 2.00e+00, 2.40e+01],\n",
    "                    [1.77e+03, 3.00e+00, 2.00e+00, 8.40e+01],\n",
    "                    [1.65e+03, 3.00e+00, 1.00e+00, 1.90e+01],\n",
    "                    [1.03e+03, 3.00e+00, 1.00e+00, 6.00e+01],\n",
    "                    [1.12e+03, 2.00e+00, 2.00e+00, 1.60e+01],\n",
    "                    [1.15e+03, 3.00e+00, 1.00e+00, 6.20e+01],\n",
    "                    [8.16e+02, 2.00e+00, 1.00e+00, 3.90e+01],\n",
    "                    [1.04e+03, 3.00e+00, 1.00e+00, 2.50e+01],\n",
    "                    [1.39e+03, 3.00e+00, 1.00e+00, 6.40e+01],\n",
    "                    [1.60e+03, 3.00e+00, 2.00e+00, 2.90e+01],\n",
    "                    [1.22e+03, 3.00e+00, 1.00e+00, 6.30e+01],\n",
    "                    [1.07e+03, 2.00e+00, 1.00e+00, 1.00e+02],\n",
    "                    [2.60e+03, 4.00e+00, 2.00e+00, 2.20e+01],\n",
    "                    [1.43e+03, 3.00e+00, 1.00e+00, 5.90e+01],\n",
    "                    [2.09e+03, 3.00e+00, 2.00e+00, 2.60e+01],\n",
    "                    [1.79e+03, 4.00e+00, 2.00e+00, 4.90e+01],\n",
    "                    [1.48e+03, 3.00e+00, 2.00e+00, 1.60e+01],\n",
    "                    [1.04e+03, 3.00e+00, 1.00e+00, 2.50e+01],\n",
    "                    [1.43e+03, 3.00e+00, 1.00e+00, 2.20e+01],\n",
    "                    [1.16e+03, 3.00e+00, 1.00e+00, 5.30e+01],\n",
    "                    [1.55e+03, 3.00e+00, 2.00e+00, 1.20e+01],\n",
    "                    [1.98e+03, 3.00e+00, 2.00e+00, 2.20e+01],\n",
    "                    [1.06e+03, 3.00e+00, 1.00e+00, 5.30e+01],\n",
    "                    [1.18e+03, 2.00e+00, 1.00e+00, 9.90e+01],\n",
    "                    [1.36e+03, 2.00e+00, 1.00e+00, 1.70e+01],\n",
    "                    [9.60e+02, 3.00e+00, 1.00e+00, 5.10e+01],\n",
    "                    [1.46e+03, 3.00e+00, 2.00e+00, 1.60e+01],\n",
    "                    [1.45e+03, 3.00e+00, 2.00e+00, 2.50e+01],\n",
    "                    [1.21e+03, 2.00e+00, 1.00e+00, 1.50e+01],\n",
    "                    [1.55e+03, 3.00e+00, 2.00e+00, 1.60e+01],\n",
    "                    [8.82e+02, 3.00e+00, 1.00e+00, 4.90e+01],\n",
    "                    [2.03e+03, 4.00e+00, 2.00e+00, 4.50e+01],\n",
    "                    [1.04e+03, 3.00e+00, 1.00e+00, 6.20e+01],\n",
    "                    [1.62e+03, 3.00e+00, 1.00e+00, 1.60e+01],\n",
    "                    [8.03e+02, 2.00e+00, 1.00e+00, 8.00e+01],\n",
    "                    [1.43e+03, 3.00e+00, 2.00e+00, 2.10e+01],\n",
    "                    [1.66e+03, 3.00e+00, 1.00e+00, 6.10e+01],\n",
    "                    [1.54e+03, 3.00e+00, 1.00e+00, 1.60e+01],\n",
    "                    [9.48e+02, 3.00e+00, 1.00e+00, 5.30e+01],\n",
    "                    [1.22e+03, 2.00e+00, 2.00e+00, 1.20e+01],\n",
    "                    [1.43e+03, 2.00e+00, 1.00e+00, 4.30e+01],\n",
    "                    [1.66e+03, 3.00e+00, 2.00e+00, 1.90e+01],\n",
    "                    [1.21e+03, 3.00e+00, 1.00e+00, 2.00e+01],\n",
    "                    [1.05e+03, 2.00e+00, 1.00e+00, 6.50e+01]])\n",
    "\n",
    "y_train = np.array([300., 509.8, 394., 540., 415., 230., 560., 294.,\n",
    "                    718.2, 200., 302., 468., 374.2, 388., 282., 311.8,\n",
    "                    401., 449.8, 301., 502., 340., 400.28, 572., 264.,\n",
    "                    304., 298., 219.8, 490.7, 216.96, 368.2, 280., 526.87,\n",
    "                    237., 562.43, 369.8, 460., 374., 390., 158., 426.,\n",
    "                    390., 277.77, 216.96, 425.8, 504., 329., 464., 220.,\n",
    "                    358., 478., 334., 426.98, 290., 463., 390.8, 354.,\n",
    "                    350., 460., 237., 288.3, 282., 249., 304., 332.,\n",
    "                    351.8, 310., 216.96, 666.34, 330., 480., 330.3, 348.,\n",
    "                    304., 384., 316., 430.4, 450., 284., 275., 414.,\n",
    "                    258., 378., 350., 412., 373., 225., 390., 267.4,\n",
    "                    464., 174., 340., 430., 440., 216., 329., 388.,\n",
    "                    390., 356., 257.8])\n",
    "X_features = ['Size (sqft)', 'Bedrooms', 'Floors', 'Age (years)']\n",
    "print(f'X_train.shape = {X_train.shape}')\n",
    "print(f'y_train.shape = {y_train.shape}')"
   ]
  },
  {
   "cell_type": "code",
   "execution_count": 6,
   "metadata": {},
   "outputs": [],
   "source": [
    "# Normalize the training data\n",
    "scalar = StandardScaler()\n",
    "X_norm = scalar.fit_transform(X_train)"
   ]
  },
  {
   "cell_type": "code",
   "execution_count": 10,
   "metadata": {},
   "outputs": [
    {
     "name": "stdout",
     "output_type": "stream",
     "text": [
      "number of iterations  completed: 114, number of weight updates: 11287.0\n"
     ]
    }
   ],
   "source": [
    "sgdr = SGDRegressor(max_iter=1000)\n",
    "sgdr.fit(X_norm, y_train)\n",
    "print(\n",
    "    f\"number of iterations  completed: {sgdr.n_iter_}, number of weight updates: {sgdr.t_}\")"
   ]
  },
  {
   "cell_type": "code",
   "execution_count": 12,
   "metadata": {},
   "outputs": [
    {
     "name": "stdout",
     "output_type": "stream",
     "text": [
      "model parameters:                   w: [110.06442739 -21.07250114 -32.31994568 -37.98106104], b:[363.18415598]\n",
      "model parameters from previous lab: w: [110.56 -21.27 -32.71 -37.97], b: 363.16\n"
     ]
    }
   ],
   "source": [
    "b = sgdr.intercept_\n",
    "w = sgdr.coef_\n",
    "print(f\"model parameters:                   w: {w}, b:{b}\")\n",
    "print( \"model parameters from previous lab: w: [110.56 -21.27 -32.71 -37.97], b: 363.16\")"
   ]
  },
  {
   "cell_type": "code",
   "execution_count": 13,
   "metadata": {},
   "outputs": [
    {
     "name": "stdout",
     "output_type": "stream",
     "text": [
      "Predictions: [294.08267973 486.8234103  388.45559317 492.44554775]\n",
      "Ground Truth: [300.  509.8 394.  540. ]\n"
     ]
    }
   ],
   "source": [
    "# Make Predictions:\n",
    "\n",
    "y_pred_sgd = sgdr.predict(X_norm)\n",
    "print(f'Predictions: {y_pred_sgd[:4]}')\n",
    "print(f'Ground Truth: {y_train[:4]}')"
   ]
  },
  {
   "cell_type": "code",
   "execution_count": 16,
   "metadata": {},
   "outputs": [
    {
     "data": {
      "image/png": "[encoded data removed]",
      "text/plain": [
       "<Figure size 432x288 with 1 Axes>"
      ]
     },
     "metadata": {
      "needs_background": "light"
     },
     "output_type": "display_data"
    }
   ],
   "source": [
    "# Just for the same of visualization, let us see the predictions made vs. the feature 'size'\n",
    "\n",
    "plt.scatter(X_norm[:, 0], y_train, c='b', label='Ground Truth')\n",
    "plt.scatter(X_norm[:, 0], y_pred_sgd, c='orange', label='Predictions')\n",
    "plt.xlabel('Size (sqft)')\n",
    "plt.ylabel('Price')\n",
    "plt.legend()\n",
    "plt.show()"
   ]
  }
 ],
 "metadata": {
  "kernelspec": {
   "display_name": "Python 3.10.5 64-bit",
   "language": "python",
   "name": "python3"
  },
  "language_info": {
   "codemirror_mode": {
    "name": "ipython",
    "version": 3
   },
   "file_extension": ".py",
   "mimetype": "text/x-python",
   "name": "python",
   "nbconvert_exporter": "python",
   "pygments_lexer": "ipython3",
   "version": "3.10.5"
  },
  "orig_nbformat": 4,
  "vscode": {
   "interpreter": {
    "hash": "7c2737f5cd3eb6a237b7123ce75c641d6f975db18b0c0702ad2055474d78171c"
   }
  }
 },
 "nbformat": 4,
 "nbformat_minor": 2
}
