{
 "cells": [
  {
   "cell_type": "code",
   "execution_count": 6,
   "metadata": {},
   "outputs": [
    {
     "name": "stdout",
     "output_type": "stream",
     "text": [
      "India's Population: 9.23\n"
     ]
    }
   ],
   "source": [
    "# Why do we need dictionaries when we could have to lists?\n",
    "pop = [12.9, 7.2, 9.23]\n",
    "country = ['Albania', 'China', 'India']\n",
    "\n",
    "# In order to get india's population, I would have to first find the index of India in the list country\n",
    "idx_ind = country.index('India')\n",
    "print(f\"India's Population: {pop[idx_ind]}\")\n",
    "\n",
    "# a very tedious process, not intuitive and not convenient"
   ]
  },
  {
   "cell_type": "code",
   "execution_count": 7,
   "metadata": {},
   "outputs": [
    {
     "name": "stdout",
     "output_type": "stream",
     "text": [
      "India's Population: 9.2\n"
     ]
    }
   ],
   "source": [
    "# Instead let us make a list with (key, value) pairs\n",
    "\n",
    "country_pop = {\n",
    "    'Albania': 12.9,\n",
    "    'China': 7.2,\n",
    "    'India': 9.2\n",
    "}\n",
    "\n",
    "# Easily access india's population now:\n",
    "print(f\"India's Population: {country_pop.get('India')}\")"
   ]
  },
  {
   "cell_type": "code",
   "execution_count": 8,
   "metadata": {},
   "outputs": [
    {
     "name": "stdout",
     "output_type": "stream",
     "text": [
      "9.2\n"
     ]
    }
   ],
   "source": [
    "# Alternative way to access value \n",
    "print(country_pop['India'])"
   ]
  },
  {
   "cell_type": "code",
   "execution_count": 9,
   "metadata": {},
   "outputs": [
    {
     "name": "stdout",
     "output_type": "stream",
     "text": [
      "dict_keys(['Albania', 'China', 'India'])\n"
     ]
    }
   ],
   "source": [
    "# Print the keys of a dictionary\n",
    "print(country_pop.keys())"
   ]
  },
  {
   "cell_type": "code",
   "execution_count": null,
   "metadata": {},
   "outputs": [],
   "source": []
  }
 ],
 "metadata": {
  "kernelspec": {
   "display_name": "Python 3 (ipykernel)",
   "language": "python",
   "name": "python3"
  },
  "language_info": {
   "codemirror_mode": {
    "name": "ipython",
    "version": 3
   },
   "file_extension": ".py",
   "mimetype": "text/x-python",
   "name": "python",
   "nbconvert_exporter": "python",
   "pygments_lexer": "ipython3",
   "version": "3.10.5"
  },
  "vscode": {
   "interpreter": {
    "hash": "7c2737f5cd3eb6a237b7123ce75c641d6f975db18b0c0702ad2055474d78171c"
   }
  }
 },
 "nbformat": 4,
 "nbformat_minor": 2
}
